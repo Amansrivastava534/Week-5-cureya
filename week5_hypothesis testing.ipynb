{
 "cells": [
  {
   "cell_type": "markdown",
   "id": "13c6f8e1",
   "metadata": {},
   "source": [
    "# Week 5-Test the null hypothesis And alternate hypothesis"
   ]
  },
  {
   "cell_type": "markdown",
   "id": "68af2e60",
   "metadata": {},
   "source": [
    "# Hypothesis Testing\n",
    "Hypothesis testing is a statistical method that is used in making statistical decisions using experimental data. Hypothesis Testing is basically an assumption that we make about the population parameter.\n",
    "This report aims at understanding and applying **Hypothesis testing** methods such as <br>\n",
    "1.  **Normal Distribution**<br>\n",
    "2. **Student t Distribution**<br>\n",
    "3. **type 1 and type 2 errors**<br>\n",
    "4. **ANOVA**<br>\n",
    "So let's get started"
   ]
  },
  {
   "cell_type": "code",
   "execution_count": 34,
   "id": "b30ab805",
   "metadata": {},
   "outputs": [],
   "source": [
    "# import package\n",
    "%matplotlib inline\n",
    "import pandas as pd\n",
    "import numpy as np\n",
    "import statistics\n",
    "import seaborn as sns\n",
    "import matplotlib.pyplot as plt\n",
    "from scipy import stats"
   ]
  },
  {
   "cell_type": "code",
   "execution_count": 10,
   "id": "adcff8a2",
   "metadata": {},
   "outputs": [],
   "source": [
    "import warnings\n",
    "\n",
    "warnings.filterwarnings('ignore')"
   ]
  },
  {
   "cell_type": "code",
   "execution_count": 13,
   "id": "7a9559c1",
   "metadata": {},
   "outputs": [],
   "source": [
    "# Import data\n",
    "payroll = pd.read_csv('data.csv')"
   ]
  },
  {
   "cell_type": "code",
   "execution_count": 33,
   "id": "3a93526f",
   "metadata": {},
   "outputs": [
    {
     "data": {
      "text/html": [
       "<div>\n",
       "<style scoped>\n",
       "    .dataframe tbody tr th:only-of-type {\n",
       "        vertical-align: middle;\n",
       "    }\n",
       "\n",
       "    .dataframe tbody tr th {\n",
       "        vertical-align: top;\n",
       "    }\n",
       "\n",
       "    .dataframe thead th {\n",
       "        text-align: right;\n",
       "    }\n",
       "</style>\n",
       "<table border=\"1\" class=\"dataframe\">\n",
       "  <thead>\n",
       "    <tr style=\"text-align: right;\">\n",
       "      <th></th>\n",
       "      <th>Row ID</th>\n",
       "      <th>Year</th>\n",
       "      <th>Department Title</th>\n",
       "      <th>Payroll Department</th>\n",
       "      <th>Record Number</th>\n",
       "      <th>Job_title</th>\n",
       "      <th>Employment Type</th>\n",
       "      <th>Hourly or Event Rate</th>\n",
       "      <th>Annual_sal</th>\n",
       "      <th>Q1 Payments</th>\n",
       "      <th>...</th>\n",
       "      <th>MOU Title</th>\n",
       "      <th>FMS Department</th>\n",
       "      <th>Job Class</th>\n",
       "      <th>Pay Grade</th>\n",
       "      <th>Average Health Cost</th>\n",
       "      <th>Average Dental Cost</th>\n",
       "      <th>Average Basic Life</th>\n",
       "      <th>Average Benefit Cost</th>\n",
       "      <th>Benefits Plan</th>\n",
       "      <th>Job Class Link</th>\n",
       "    </tr>\n",
       "  </thead>\n",
       "  <tbody>\n",
       "    <tr>\n",
       "      <th>1</th>\n",
       "      <td>31732</td>\n",
       "      <td>2013</td>\n",
       "      <td>Police (LAPD)</td>\n",
       "      <td>4301.0</td>\n",
       "      <td>432728338</td>\n",
       "      <td>Police Officer I</td>\n",
       "      <td>Full Time</td>\n",
       "      <td>$25.12</td>\n",
       "      <td>52450.56</td>\n",
       "      <td>11331.00</td>\n",
       "      <td>...</td>\n",
       "      <td>POLICE OFFICERS UNIT</td>\n",
       "      <td>70</td>\n",
       "      <td>2214</td>\n",
       "      <td>A</td>\n",
       "      <td>11651.40</td>\n",
       "      <td>898.08</td>\n",
       "      <td>191.04</td>\n",
       "      <td>12740.52</td>\n",
       "      <td>Police</td>\n",
       "      <td>http://per.lacity.org/perspecs/2214.pdf</td>\n",
       "    </tr>\n",
       "    <tr>\n",
       "      <th>2</th>\n",
       "      <td>27697</td>\n",
       "      <td>2013</td>\n",
       "      <td>Police (LAPD)</td>\n",
       "      <td>4301.0</td>\n",
       "      <td>97182506</td>\n",
       "      <td>Police Officer II</td>\n",
       "      <td>Full Time</td>\n",
       "      <td>$42.77</td>\n",
       "      <td>89303.76</td>\n",
       "      <td>20036.32</td>\n",
       "      <td>...</td>\n",
       "      <td>POLICE OFFICERS UNIT</td>\n",
       "      <td>70</td>\n",
       "      <td>2214</td>\n",
       "      <td>2</td>\n",
       "      <td>11651.40</td>\n",
       "      <td>898.08</td>\n",
       "      <td>191.04</td>\n",
       "      <td>12740.52</td>\n",
       "      <td>Police</td>\n",
       "      <td>http://per.lacity.org/perspecs/2214.pdf</td>\n",
       "    </tr>\n",
       "    <tr>\n",
       "      <th>3</th>\n",
       "      <td>14136</td>\n",
       "      <td>2013</td>\n",
       "      <td>Harbor (Port of LA)</td>\n",
       "      <td>3201.0</td>\n",
       "      <td>950136941</td>\n",
       "      <td>Senior Security Officer</td>\n",
       "      <td>Full Time</td>\n",
       "      <td>$28.75</td>\n",
       "      <td>60028.96</td>\n",
       "      <td>15793.88</td>\n",
       "      <td>...</td>\n",
       "      <td>SUPV BLUE COLLAR</td>\n",
       "      <td>42</td>\n",
       "      <td>3184</td>\n",
       "      <td>0</td>\n",
       "      <td>10710.24</td>\n",
       "      <td>405.24</td>\n",
       "      <td>11.40</td>\n",
       "      <td>11126.88</td>\n",
       "      <td>City</td>\n",
       "      <td>http://per.lacity.org/perspecs/3184.pdf</td>\n",
       "    </tr>\n",
       "    <tr>\n",
       "      <th>4</th>\n",
       "      <td>91896</td>\n",
       "      <td>2014</td>\n",
       "      <td>Public Works - Sanitation</td>\n",
       "      <td>7024.0</td>\n",
       "      <td>3230003445</td>\n",
       "      <td>Senior Clerk Typist</td>\n",
       "      <td>Full Time</td>\n",
       "      <td>$30.92</td>\n",
       "      <td>64553.13</td>\n",
       "      <td>14700.00</td>\n",
       "      <td>...</td>\n",
       "      <td>CLERICAL UNIT</td>\n",
       "      <td>82</td>\n",
       "      <td>1368</td>\n",
       "      <td>0</td>\n",
       "      <td>11000.40</td>\n",
       "      <td>409.68</td>\n",
       "      <td>11.40</td>\n",
       "      <td>11421.48</td>\n",
       "      <td>City</td>\n",
       "      <td>http://per.lacity.org/perspecs/1368.pdf</td>\n",
       "    </tr>\n",
       "    <tr>\n",
       "      <th>6</th>\n",
       "      <td>59695</td>\n",
       "      <td>2014</td>\n",
       "      <td>Airports (LAWA)</td>\n",
       "      <td>101.0</td>\n",
       "      <td>4237826094</td>\n",
       "      <td>Custodian - Airports</td>\n",
       "      <td>Full Time</td>\n",
       "      <td>$22.95</td>\n",
       "      <td>47911.51</td>\n",
       "      <td>13493.87</td>\n",
       "      <td>...</td>\n",
       "      <td>SERVICE EMPLOYEES UNIT</td>\n",
       "      <td>4</td>\n",
       "      <td>3156</td>\n",
       "      <td>A</td>\n",
       "      <td>11000.40</td>\n",
       "      <td>409.68</td>\n",
       "      <td>11.40</td>\n",
       "      <td>11421.48</td>\n",
       "      <td>City</td>\n",
       "      <td>http://per.lacity.org/perspecs/3156.pdf</td>\n",
       "    </tr>\n",
       "  </tbody>\n",
       "</table>\n",
       "<p>5 rows × 35 columns</p>\n",
       "</div>"
      ],
      "text/plain": [
       "   Row ID  Year           Department Title  Payroll Department Record Number  \\\n",
       "1   31732  2013              Police (LAPD)              4301.0     432728338   \n",
       "2   27697  2013              Police (LAPD)              4301.0      97182506   \n",
       "3   14136  2013        Harbor (Port of LA)              3201.0     950136941   \n",
       "4   91896  2014  Public Works - Sanitation              7024.0    3230003445   \n",
       "6   59695  2014            Airports (LAWA)               101.0    4237826094   \n",
       "\n",
       "                 Job_title Employment Type Hourly or Event Rate  Annual_sal  \\\n",
       "1         Police Officer I       Full Time               $25.12    52450.56   \n",
       "2        Police Officer II       Full Time               $42.77    89303.76   \n",
       "3  Senior Security Officer       Full Time               $28.75    60028.96   \n",
       "4      Senior Clerk Typist       Full Time               $30.92    64553.13   \n",
       "6     Custodian - Airports       Full Time               $22.95    47911.51   \n",
       "\n",
       "  Q1 Payments  ...               MOU Title FMS Department Job Class Pay Grade  \\\n",
       "1    11331.00  ...    POLICE OFFICERS UNIT             70      2214         A   \n",
       "2    20036.32  ...    POLICE OFFICERS UNIT             70      2214         2   \n",
       "3    15793.88  ...        SUPV BLUE COLLAR             42      3184         0   \n",
       "4    14700.00  ...           CLERICAL UNIT             82      1368         0   \n",
       "6    13493.87  ...  SERVICE EMPLOYEES UNIT              4      3156         A   \n",
       "\n",
       "  Average Health Cost Average Dental Cost  Average Basic Life  \\\n",
       "1            11651.40              898.08              191.04   \n",
       "2            11651.40              898.08              191.04   \n",
       "3            10710.24              405.24               11.40   \n",
       "4            11000.40              409.68               11.40   \n",
       "6            11000.40              409.68               11.40   \n",
       "\n",
       "  Average Benefit Cost Benefits Plan                           Job Class Link  \n",
       "1             12740.52        Police  http://per.lacity.org/perspecs/2214.pdf  \n",
       "2             12740.52        Police  http://per.lacity.org/perspecs/2214.pdf  \n",
       "3             11126.88          City  http://per.lacity.org/perspecs/3184.pdf  \n",
       "4             11421.48          City  http://per.lacity.org/perspecs/1368.pdf  \n",
       "6             11421.48          City  http://per.lacity.org/perspecs/3156.pdf  \n",
       "\n",
       "[5 rows x 35 columns]"
      ]
     },
     "execution_count": 33,
     "metadata": {},
     "output_type": "execute_result"
    }
   ],
   "source": [
    "payroll.head()"
   ]
  },
  {
   "cell_type": "markdown",
   "id": "43cd30aa",
   "metadata": {},
   "source": [
    "**Data Cleansing**"
   ]
  },
  {
   "cell_type": "code",
   "execution_count": 15,
   "id": "d5c9a4eb",
   "metadata": {},
   "outputs": [],
   "source": [
    "payroll = payroll[pd.notnull(payroll['Payroll Department'])]\n",
    "payroll.rename(columns={'Projected Annual Salary' : 'Annual_sal'}, inplace = True)\n",
    "payroll.rename(columns={'Job Class Title' : 'Job_title'}, inplace = True)\n",
    "payroll.rename(columns={'Base Pay' : 'Base_Pay'}, inplace = True)"
   ]
  },
  {
   "cell_type": "code",
   "execution_count": 17,
   "id": "3a8203ba",
   "metadata": {},
   "outputs": [],
   "source": [
    "for i in ['Annual_sal','Q1 Payments','Q2 Payments','Q3 Payments','Q4 Payments','Payments Over Base Pay',\n",
    "          'Total Payments','Base_Pay','Permanent Bonus Pay','Longevity Bonus Pay','Temporary Bonus Pay','Overtime Pay',\n",
    "          'Other Pay & Adjustments','Other Pay (Payroll Explorer)','Average Health Cost','Average Dental Cost',\n",
    "          'Average Basic Life','Average Benefit Cost']:\n",
    "    payroll[i] = payroll[i].str.replace('$','')"
   ]
  },
  {
   "cell_type": "markdown",
   "id": "e64244d9",
   "metadata": {},
   "source": [
    "**Outlier removal**"
   ]
  },
  {
   "cell_type": "code",
   "execution_count": 18,
   "id": "cbb745b0",
   "metadata": {},
   "outputs": [],
   "source": [
    "payroll = payroll[payroll.Annual_sal != 0]  \n",
    "payroll = payroll[payroll.Base_Pay != 0]\n",
    "payroll.Annual_sal = payroll.Annual_sal.astype(float)\n",
    "payroll.Base_Pay = payroll.Base_Pay.astype(float)"
   ]
  },
  {
   "cell_type": "code",
   "execution_count": 19,
   "id": "a9ec37fe",
   "metadata": {},
   "outputs": [
    {
     "data": {
      "text/plain": [
       "<AxesSubplot:xlabel='Annual_sal', ylabel='Density'>"
      ]
     },
     "execution_count": 19,
     "metadata": {},
     "output_type": "execute_result"
    },
    {
     "data": {
      "image/png": "[encoded data removed]",
      "text/plain": [
       "<Figure size 864x432 with 1 Axes>"
      ]
     },
     "metadata": {
      "needs_background": "light"
     },
     "output_type": "display_data"
    }
   ],
   "source": [
    "plt.figure(figsize = (12,6))\n",
    "sns.distplot(payroll.Annual_sal,color = 'darkgreen')"
   ]
  },
  {
   "cell_type": "markdown",
   "id": "06da67a3",
   "metadata": {},
   "source": [
    "**Creating different Sample from the population**"
   ]
  },
  {
   "cell_type": "code",
   "execution_count": 20,
   "id": "e3e2c5d6",
   "metadata": {},
   "outputs": [],
   "source": [
    "payroll_2015 = payroll[payroll.Year ==2015]\n",
    "payroll_2016 = payroll[payroll.Year ==2016]"
   ]
  },
  {
   "cell_type": "markdown",
   "id": "bed3f273",
   "metadata": {},
   "source": [
    "**Calculating the Population Parameters**"
   ]
  },
  {
   "cell_type": "code",
   "execution_count": 21,
   "id": "ff4a6f31",
   "metadata": {},
   "outputs": [
    {
     "name": "stdout",
     "output_type": "stream",
     "text": [
      "Population Mean: 76046.39152505301\n",
      "Population Standard Deviation: 34232.25489729045\n"
     ]
    }
   ],
   "source": [
    "pop_mean_2015 = payroll_2015['Annual_sal'].mean()\n",
    "pop_std_2015 = statistics.stdev(payroll_2015.Annual_sal)\n",
    "print(\"Population Mean: \"+str(pop_mean_2015))\n",
    "print(\"Population Standard Deviation: \"+str(pop_std_2015))"
   ]
  },
  {
   "cell_type": "markdown",
   "id": "ed27d2ef",
   "metadata": {},
   "source": [
    "**Calculating the Sample Parameters**"
   ]
  },
  {
   "cell_type": "code",
   "execution_count": 23,
   "id": "f6e48dd2",
   "metadata": {},
   "outputs": [
    {
     "name": "stdout",
     "output_type": "stream",
     "text": [
      "Population Mean: 78711.19987225177\n",
      "Sample Mean: 78954.56516485884\n",
      "Sample Standard Deviation: 33856.35847070621\n"
     ]
    }
   ],
   "source": [
    "print(\"Population Mean: \"+str(payroll_2016['Annual_sal'].mean()))\n",
    "payroll_2016_sample = payroll_2016.sample(frac=0.10)\n",
    "sample_mean_2016 = payroll_2016_sample['Annual_sal'].mean()\n",
    "print(\"Sample Mean: \"+str(sample_mean_2016))\n",
    "sample_std_2016 = statistics.stdev(payroll_2016_sample.Annual_sal)\n",
    "print(\"Sample Standard Deviation: \"+str(sample_std_2016))"
   ]
  },
  {
   "cell_type": "markdown",
   "id": "2096ff9f",
   "metadata": {},
   "source": [
    "<b>Hypothesis Testing</b>\n",
    "\n",
    "<b>Normal distribution</b>\n",
    "\n",
    "<b>Null Hypothesis :</b> It increases in 2016\n",
    "\n",
    "<b>Alternate Hypothesis: </b>Pay does not increase in 2016\n",
    "\n",
    "<b>Population parameters:</b> Mean = pop_mean_2015, standard deviation = pop_std_2015\n",
    "\n",
    "<b>Sample parameters :</b> Mean = sample_mean_2016, standard deviation = sample_std_2016"
   ]
  },
  {
   "cell_type": "code",
   "execution_count": 25,
   "id": "52853c91",
   "metadata": {},
   "outputs": [
    {
     "name": "stdout",
     "output_type": "stream",
     "text": [
      "8.110826644222016\n"
     ]
    }
   ],
   "source": [
    "import math\n",
    "# Confidence Level 95 %  for one sided Normal curve\n",
    "zscore_critical = 1.65 \n",
    "# Calculate the test statistics \n",
    "zscore_test_stat = ((sample_mean_2016 - pop_mean_2015)*math.sqrt(8916))/sample_std_2016\n",
    "print(zscore_test_stat)"
   ]
  },
  {
   "cell_type": "markdown",
   "id": "0897e8d7",
   "metadata": {},
   "source": [
    "<b>Conclusion:</b> As the test statistics fall into the rejection region the null hypothesis is rejected\n",
    "and it can be concluded that the Annual salaries increase in 2016.\n",
    "However, we will first check for the Type 1 and Type 2 Errors"
   ]
  },
  {
   "cell_type": "markdown",
   "id": "c7b6d366",
   "metadata": {},
   "source": [
    "# Type 1 type 2 hypothesis error\n",
    "<b>Type I error:</b> When we reject the null hypothesis, although that hypothesis was true. Type I error is denoted by alpha. In hypothesis testing, the normal curve that shows the critical region is called the alpha region\n",
    "\n",
    "<b>Type II errors:</b> When we accept the null hypothesis but it is false. Type II errors are denoted by beta. In Hypothesis testing, the normal curve that shows the acceptance region is called the beta region.\n",
    "\n",
    "In statistical hypothesis testing, a type I error is the incorrect rejection of a true null hypothesis (a \"false positive\"), while a type II error is incorrectly retaining a false null hypothesis (a \"false negative\")."
   ]
  },
  {
   "cell_type": "code",
   "execution_count": 26,
   "id": "13707062",
   "metadata": {},
   "outputs": [
    {
     "name": "stdout",
     "output_type": "stream",
     "text": [
      "0.07937359898019851\n"
     ]
    }
   ],
   "source": [
    "# we are basically checking the true value of the population characteristics\n",
    "pop_mean_2016 = payroll_2016['Annual_sal'].mean()\n",
    "pop_std_2016 = statistics.stdev(payroll_2016.Annual_sal)\n",
    "\n",
    "zscore_error = ((pop_mean_2016 - pop_mean_2015)/pop_std_2016)\n",
    "print(zscore_error)"
   ]
  },
  {
   "cell_type": "markdown",
   "id": "ed806da7",
   "metadata": {},
   "source": [
    "We can clearly see that we encountered a Type 1 error as the population mean is well within acceptable region"
   ]
  },
  {
   "cell_type": "markdown",
   "id": "cec7d623",
   "metadata": {},
   "source": [
    "<b>Student T-distribution</b>\n",
    "\n",
    "<b>Null Hypothesis:</b> pay  increase in 2016\n",
    "\n",
    "<b>Alternate Hypothesis: </b>it did  not increases in 2016\n",
    "\n",
    "<b>Population parameters:</b> Mean = pop_mean_2015, standard deviation = pop_std_2015\n",
    "    \n",
    "<b>Sample parameters :</b> Mean = sample_mean_2016, standard deviation = sample_std_2016"
   ]
  },
  {
   "cell_type": "code",
   "execution_count": 28,
   "id": "bdb5a2e5",
   "metadata": {},
   "outputs": [],
   "source": [
    "#Calculating the Sample Parameters**\n",
    "payroll_2014 = payroll[payroll.Year ==2014]\n",
    "payroll_2015 = payroll[payroll.Year ==2015]\n",
    "# Creating Sample distribution for T statistics\n",
    "payroll_t_2015_sample = payroll_2015.sample(frac=0.00062)"
   ]
  },
  {
   "cell_type": "code",
   "execution_count": 29,
   "id": "9d6a6b03",
   "metadata": {},
   "outputs": [],
   "source": [
    "payroll_t_2015_sample = payroll_2015.sample(frac=0.00062)\n",
    "N = len(payroll_t_2015_sample)\n",
    "sample_mean_2015 = payroll_t_2015_sample['Annual_sal'].mean()\n",
    "sample_std_2015 = statistics.stdev(payroll_t_2015_sample.Annual_sal)\n",
    "pop_std_2014  = statistics.stdev(payroll_2014.Annual_sal)\n",
    "pop_mean_2014 = payroll_2014['Annual_sal'].mean()"
   ]
  },
  {
   "cell_type": "code",
   "execution_count": 30,
   "id": "6d6bc620",
   "metadata": {},
   "outputs": [
    {
     "name": "stdout",
     "output_type": "stream",
     "text": [
      "-0.06225377791500011\n"
     ]
    }
   ],
   "source": [
    "# Confidence Level 95 %  for one sided T curve\n",
    "t_critical = 1.311\n",
    "\n",
    "# Calculate the test statistics \n",
    "tscore_test_stat = ((sample_mean_2015 - pop_mean_2014)*math.sqrt(N))/sample_std_2015\n",
    "\n",
    "print(tscore_test_stat)"
   ]
  },
  {
   "cell_type": "markdown",
   "id": "b7d3a286",
   "metadata": {},
   "source": [
    "Depending on the Test score , we can accept/Reject the Null\n",
    "\n",
    "<b>** F Distribution and ANOVA </b>\n",
    "\n",
    "The means from three different samples are compared using ANOVA\n",
    "It is similar to applying t-tests over multiple sample ANOVA : https://statistics.laerd.com/statistical-guides/one-way-anova-statistical-guide.php"
   ]
  },
  {
   "cell_type": "code",
   "execution_count": 31,
   "id": "2cd3f182",
   "metadata": {},
   "outputs": [
    {
     "name": "stdout",
     "output_type": "stream",
     "text": [
      "Sample Mean 2014 67878.53171428571\n",
      "Sample Mean 2015 65304.96400000001\n",
      "Sample Mean 2016 34002.21742857143\n"
     ]
    }
   ],
   "source": [
    "payroll_2014 = payroll[payroll.Year ==2014]\n",
    "payroll_2014_elec = payroll_2014[payroll_2014.Job_title == 'Electrician']\n",
    "payroll_2015_elec = payroll_2015[payroll_2015.Job_title == 'Electrician']\n",
    "payroll_2016_elec = payroll_2016[payroll_2016.Job_title == 'Electrician']\n",
    "sample_elec_2014 = payroll_2014_elec.sample(frac=0.47)\n",
    "sample_elec_mean_2014 = sample_elec_2014['Base_Pay'].mean()\n",
    "print(\"Sample Mean 2014 \"+str(sample_elec_mean_2014))\n",
    "sample_elec_2015 = payroll_2015_elec.sample(frac=0.41)\n",
    "sample_elec_mean_2015 = sample_elec_2015['Base_Pay'].mean()\n",
    "print(\"Sample Mean 2015 \"+str(sample_elec_mean_2015))\n",
    "sample_elec_2016 = payroll_2016_elec.sample(frac=0.22)\n",
    "sample_elec_mean_2016 = sample_elec_2016['Base_Pay'].mean()\n",
    "print(\"Sample Mean 2016 \"+str(sample_elec_mean_2016))\n",
    "# Creating the Samples of the base pays over three years\n",
    "sam_1 = sample_elec_2014.Base_Pay\n",
    "sam_2 = sample_elec_2015.Base_Pay\n",
    "sam_3 = sample_elec_2016.Base_Pay"
   ]
  },
  {
   "cell_type": "code",
   "execution_count": 32,
   "id": "c190961f",
   "metadata": {},
   "outputs": [
    {
     "name": "stdout",
     "output_type": "stream",
     "text": [
      "F value: 24.629006946921248\n",
      "P value: 1.8748679645638236e-09 \n",
      "\n"
     ]
    }
   ],
   "source": [
    "f, p = stats.f_oneway(sam_1, sam_2, sam_3 )\n",
    "print ('F value:', f)\n",
    "print ('P value:', p, '\\n')"
   ]
  },
  {
   "cell_type": "markdown",
   "id": "46888d1d",
   "metadata": {},
   "source": [
    "P value is very low, hence null hypothesis is rejected\n",
    "\n"
   ]
  }
 ],
 "metadata": {
  "kernelspec": {
   "display_name": "Python 3",
   "language": "python",
   "name": "python3"
  },
  "language_info": {
   "codemirror_mode": {
    "name": "ipython",
    "version": 3
   },
   "file_extension": ".py",
   "mimetype": "text/x-python",
   "name": "python",
   "nbconvert_exporter": "python",
   "pygments_lexer": "ipython3",
   "version": "3.8.8"
  }
 },
 "nbformat": 4,
 "nbformat_minor": 5
}
